{
 "cells": [
  {
   "cell_type": "code",
   "execution_count": 1,
   "metadata": {
    "collapsed": false
   },
   "outputs": [
    {
     "data": {
      "text/plain": [
       "true\t\n"
      ]
     },
     "execution_count": 1,
     "metadata": {},
     "output_type": "execute_result"
    }
   ],
   "source": [
    "require 'nngraph'"
   ]
  },
  {
   "cell_type": "code",
   "execution_count": 4,
   "metadata": {
    "collapsed": false
   },
   "outputs": [],
   "source": [
    "input = nn.Identity()()"
   ]
  },
  {
   "cell_type": "code",
   "execution_count": 6,
   "metadata": {
    "collapsed": false
   },
   "outputs": [],
   "source": [
    "h1 = nn.Tanh()(nn.Linear(20,10)(input))\n",
    "output = nn.Linear(10, 1)(h1)\n",
    "mlp = nn.gModule({input},{output})"
   ]
  },
  {
   "cell_type": "code",
   "execution_count": 9,
   "metadata": {
    "collapsed": false
   },
   "outputs": [
    {
     "ename": "/usr/local/share/lua/5.1/graph/graphviz.lua:135: graphviz layout failed\nstack traceback:\n\t[C]: in function 'assert'\n\t/usr/local/share/lua/5.1/graph/graphviz.lua:135: in function 'graphvizFile'\n\t/usr/local/share/lua/5.1/graph/graphviz.lua:162: in function 'dot'\n\t[string \"x = torch.rand(20)...\"]:7: in main chunk\n\t[C]: in function 'xpcall'\n\t/usr/local/share/lua/5.1/itorch/main.lua:179: in function </usr/local/share/lua/5.1/itorch/main.lua:143>\n\t/usr/local/share/lua/5.1/lzmq/poller.lua:75: in function 'poll'\n\t/usr/local/share/lua/5.1/lzmq/impl/loop.lua:307: in function 'poll'\n\t/usr/local/share/lua/5.1/lzmq/impl/loop.lua:325: in function 'sleep_ex'\n\t/usr/local/share/lua/5.1/lzmq/impl/loop.lua:370: in function 'start'\n\t/usr/local/share/lua/5.1/itorch/main.lua:350: in main chunk\n\t[C]: in function 'require'\n\t[string \"arg={'/Users/carpedm20/Library/Jupyter/runtim...\"]:1: in main chunk",
     "evalue": "",
     "output_type": "error",
     "traceback": [
      "/usr/local/share/lua/5.1/graph/graphviz.lua:135: graphviz layout failed\nstack traceback:\n\t[C]: in function 'assert'\n\t/usr/local/share/lua/5.1/graph/graphviz.lua:135: in function 'graphvizFile'\n\t/usr/local/share/lua/5.1/graph/graphviz.lua:162: in function 'dot'\n\t[string \"x = torch.rand(20)...\"]:7: in main chunk\n\t[C]: in function 'xpcall'\n\t/usr/local/share/lua/5.1/itorch/main.lua:179: in function </usr/local/share/lua/5.1/itorch/main.lua:143>\n\t/usr/local/share/lua/5.1/lzmq/poller.lua:75: in function 'poll'\n\t/usr/local/share/lua/5.1/lzmq/impl/loop.lua:307: in function 'poll'\n\t/usr/local/share/lua/5.1/lzmq/impl/loop.lua:325: in function 'sleep_ex'\n\t/usr/local/share/lua/5.1/lzmq/impl/loop.lua:370: in function 'start'\n\t/usr/local/share/lua/5.1/itorch/main.lua:350: in main chunk\n\t[C]: in function 'require'\n\t[string \"arg={'/Users/carpedm20/Library/Jupyter/runtim...\"]:1: in main chunk"
     ]
    }
   ],
   "source": [
    "x = torch.rand(20)\n",
    "dx = torch.rand(1)\n",
    "mlp:updateOutput(x)\n",
    "mlp:updateGradInput(x, dx)\n",
    "mlp:accGradParameters(x, dx)\n",
    "\n",
    "graph.dot(mlp.fg,'MLP','MLP')"
   ]
  },
  {
   "cell_type": "code",
   "execution_count": 11,
   "metadata": {
    "collapsed": false
   },
   "outputs": [
    {
     "ename": "/usr/local/share/lua/5.1/graph/graphviz.lua:135: graphviz layout failed\nstack traceback:\n\t[C]: in function 'assert'\n\t/usr/local/share/lua/5.1/graph/graphviz.lua:135: in function 'graphvizFile'\n\t/usr/local/share/lua/5.1/graph/graphviz.lua:162: in function 'dot'\n\t[string \"h1 = nn.Linear(20, 10)()...\"]:12: in main chunk\n\t[C]: in function 'xpcall'\n\t/usr/local/share/lua/5.1/itorch/main.lua:179: in function </usr/local/share/lua/5.1/itorch/main.lua:143>\n\t/usr/local/share/lua/5.1/lzmq/poller.lua:75: in function 'poll'\n\t/usr/local/share/lua/5.1/lzmq/impl/loop.lua:307: in function 'poll'\n\t/usr/local/share/lua/5.1/lzmq/impl/loop.lua:325: in function 'sleep_ex'\n\t/usr/local/share/lua/5.1/lzmq/impl/loop.lua:370: in function 'start'\n\t/usr/local/share/lua/5.1/itorch/main.lua:350: in main chunk\n\t[C]: in function 'require'\n\t[string \"arg={'/Users/carpedm20/Library/Jupyter/runtim...\"]:1: in main chunk",
     "evalue": "",
     "output_type": "error",
     "traceback": [
      "/usr/local/share/lua/5.1/graph/graphviz.lua:135: graphviz layout failed\nstack traceback:\n\t[C]: in function 'assert'\n\t/usr/local/share/lua/5.1/graph/graphviz.lua:135: in function 'graphvizFile'\n\t/usr/local/share/lua/5.1/graph/graphviz.lua:162: in function 'dot'\n\t[string \"h1 = nn.Linear(20, 10)()...\"]:12: in main chunk\n\t[C]: in function 'xpcall'\n\t/usr/local/share/lua/5.1/itorch/main.lua:179: in function </usr/local/share/lua/5.1/itorch/main.lua:143>\n\t/usr/local/share/lua/5.1/lzmq/poller.lua:75: in function 'poll'\n\t/usr/local/share/lua/5.1/lzmq/impl/loop.lua:307: in function 'poll'\n\t/usr/local/share/lua/5.1/lzmq/impl/loop.lua:325: in function 'sleep_ex'\n\t/usr/local/share/lua/5.1/lzmq/impl/loop.lua:370: in function 'start'\n\t/usr/local/share/lua/5.1/itorch/main.lua:350: in main chunk\n\t[C]: in function 'require'\n\t[string \"arg={'/Users/carpedm20/Library/Jupyter/runtim...\"]:1: in main chunk"
     ]
    }
   ],
   "source": [
    "h1 = nn.Linear(20, 10)()\n",
    "h2 = nn.Linear(10, 1)(nn.Tanh()(nn.Linear(10, 10)(nn.Tanh()(h1))))\n",
    "mlp = nn.gModule({h1}, {h2})\n",
    "\n",
    "x = torch.rand(20)\n",
    "dx = torch.rand(1)\n",
    "mlp:updateOutput(x)\n",
    "mlp:updateGradInput(x, dx)\n",
    "mlp:accGradParameters(x, dx)\n",
    "\n",
    "-- draw graph (the forward graph, '.fg')\n",
    "graph.dot(mlp.fg, 'MLP')"
   ]
  },
  {
   "cell_type": "code",
   "execution_count": null,
   "metadata": {
    "collapsed": true
   },
   "outputs": [],
   "source": [
    "local function get_network()\n",
    "    local input = nn.Identity()()\n",
    "    \n",
    "    local h1 = nn.Linear(20,10)(input)\n",
    "    local h2 = nn.Sigmoid()(h1)\n",
    "    local output = nn.Linear(10,1)(h2)\n",
    "    \n",
    "    -- Annotate nodes with local variable names\n",
    "    -- The local variables at the given stack level are inspected.\n",
    "    nngraph.annotateNodes()\n",
    "    return nn.gModule({input},{output})\n",
    "end"
   ]
  }
 ],
 "metadata": {
  "kernelspec": {
   "display_name": "iTorch",
   "language": "lua",
   "name": "itorch"
  },
  "language_info": {
   "name": "lua",
   "version": "20003"
  }
 },
 "nbformat": 4,
 "nbformat_minor": 0
}
