{
 "cells": [
  {
   "cell_type": "code",
   "execution_count": 2,
   "metadata": {
    "collapsed": false
   },
   "outputs": [
    {
     "data": {
      "text/plain": [
       "\n"
      ]
     },
     "execution_count": 2,
     "metadata": {},
     "output_type": "execute_result"
    }
   ],
   "source": [
    "torch.setdefaulttensortype('torch.FloatTensor')"
   ]
  },
  {
   "cell_type": "code",
   "execution_count": 3,
   "metadata": {
    "collapsed": true
   },
   "outputs": [],
   "source": [
    "trainset = torch.load('cifar10-train.t7')\n",
    "testset = torch.load('cifar10-test.t7')\n",
    "classes = {'airplane', 'automobile', 'bird', 'cat',\n",
    "           'deer', 'dog', 'frog', 'horse', 'ship', 'truck'}"
   ]
  },
  {
   "cell_type": "code",
   "execution_count": 4,
   "metadata": {
    "collapsed": false
   },
   "outputs": [
    {
     "data": {
      "text/plain": [
       "{\n",
       "  data : ByteTensor - size: 10000x3x32x32\n",
       "  label : ByteTensor - size: 10000\n",
       "}\n"
      ]
     },
     "execution_count": 4,
     "metadata": {},
     "output_type": "execute_result"
    }
   ],
   "source": [
    "print(trainset)"
   ]
  },
  {
   "cell_type": "code",
   "execution_count": 5,
   "metadata": {
    "collapsed": false
   },
   "outputs": [
    {
     "data": {
      "text/plain": [
       "{\n",
       "  data : ByteTensor - size: 10000x3x32x32\n",
       "  label : ByteTensor - size: 10000\n",
       "}\n"
      ]
     },
     "execution_count": 5,
     "metadata": {},
     "output_type": "execute_result"
    }
   ],
   "source": [
    "print(testset)"
   ]
  },
  {
   "cell_type": "code",
   "execution_count": 6,
   "metadata": {
    "collapsed": true
   },
   "outputs": [],
   "source": [
    "function tabulate(A, f)\n",
    "  local idx = {}\n",
    "  local ndims = A:dim()\n",
    "  local dim = A:size()\n",
    "  idx[ndims] = 0\n",
    "  for i=1, (ndims - 1) do\n",
    "    idx[i] = 1\n",
    "  end\n",
    "  return A:apply(function()\n",
    "    for i=ndims, 0, -1 do\n",
    "      idx[i] = idx[i] + 1\n",
    "      if idx[i] <= dim[i] then\n",
    "        break\n",
    "      end\n",
    "      idx[i] = 1\n",
    "    end\n",
    "    return f(unpack(idx))\n",
    "  end)\n",
    "end"
   ]
  },
  {
   "cell_type": "code",
   "execution_count": 17,
   "metadata": {
    "collapsed": false
   },
   "outputs": [
    {
     "data": {
      "text/plain": [
       "l1\t1\t\n",
       "Original time:\t1\t\n",
       "l2\t1\t\n",
       "Apply method:\t2\t\n",
       "l1\t5\t\n",
       "Original time:\t0\t\n",
       "l2\t5\t\n",
       "Apply method:\t2\t\n",
       "accuracy: 40.00\t\n",
       "accuracy: 40.00\t\n",
       "accuracy: 30.00\t\n",
       "accuracy: 20.00\t\n"
      ]
     },
     "execution_count": 17,
     "metadata": {},
     "output_type": "execute_result"
    }
   ],
   "source": [
    "NearestNeighbor = {}\n",
    "\n",
    "function NearestNeighbor:new(o)\n",
    "    o = nearestNeighbor or {}\n",
    "    setmetatable(o, self)\n",
    "    self.__index = self\n",
    "    return o\n",
    "end\n",
    "\n",
    "function NearestNeighbor:train(trainset)\n",
    "    NearestNeighbor.trainset = trainset or {}\n",
    "end\n",
    "\n",
    "function NearestNeighbor:predict(testset, is_l2, k)\n",
    "    is_l2 = is_l2 or false\n",
    "    k = k or 1\n",
    "    \n",
    "    neighbors = {}\n",
    "    \n",
    "    if is_l2 then\n",
    "        print('l2', k)\n",
    "    else\n",
    "        print('l1', k)\n",
    "    end\n",
    "    \n",
    "    -- for i=1, testset.data:size(1) do\n",
    "    for i=1, 10 do\n",
    "        local min_diff = 9999999\n",
    "        local cur_neighbors = {}\n",
    "        \n",
    "        -- for j=1, trainset.data:size(1) do\n",
    "        for j=1, 1000 do\n",
    "            local diff = trainset.data[j] - testset.data[i]\n",
    "            \n",
    "            diff = torch.FloatTensor(diff:size()):copy(diff)\n",
    "            if is_l2 then\n",
    "                diff_sum = math.sqrt(torch.pow(diff,2):sum())\n",
    "            else\n",
    "                diff_sum = torch.abs(diff):sum()\n",
    "            end\n",
    "            \n",
    "            table.insert(cur_neighbors, {j, diff_sum})\n",
    "        end\n",
    "        \n",
    "        table.sort(cur_neighbors, function(a,b) return a[2] < b[2] end)\n",
    "        -- print(cur_neighbors)\n",
    "        \n",
    "        local counter, max, answer = {}, 0, nil\n",
    "        \n",
    "        for i=1,k do\n",
    "            local j = cur_neighbors[i][1]\n",
    "            local label = trainset.label[j]\n",
    "            \n",
    "            if counter[label] == nil then\n",
    "                counter[label] = 1\n",
    "            else\n",
    "                counter[label] = counter[label] + 1\n",
    "            end\n",
    "            \n",
    "            if max < counter[label] then\n",
    "                max = counter[label]\n",
    "                answer = label\n",
    "            end\n",
    "        end\n",
    "        -- print(counter, answer)\n",
    "        -- print(\"============\")\n",
    "        \n",
    "        table.insert(neighbors, answer)\n",
    "    end\n",
    "    \n",
    "    return neighbors\n",
    "end\n",
    "\n",
    "nn = NearestNeighbor:new()\n",
    "nn:train(trainset)\n",
    "\n",
    "t = os.clock()\n",
    "results1 = nn:predict(testset, false)\n",
    "print(\"Original time:\", os.difftime(os.clock(), t))\n",
    "\n",
    "t = os.clock()\n",
    "results2 = nn:predict(testset, true)\n",
    "print(\"Apply method:\", os.difftime(os.clock(), t))\n",
    "\n",
    "t = os.clock()\n",
    "results3 = nn:predict(testset, false, 5)\n",
    "print(\"Original time:\", os.difftime(os.clock(), t))\n",
    "\n",
    "t = os.clock()\n",
    "results4 = nn:predict(testset, true, 5)\n",
    "print(\"Apply method:\", os.difftime(os.clock(), t))\n",
    "\n",
    "function compare(results, testset)\n",
    "    count = 0\n",
    "    \n",
    "    for idx, l in ipairs(results) do\n",
    "        -- print(results[idx], testset.label[idx])\n",
    "        if results[idx] == testset.label[idx] then\n",
    "            count = count + 1\n",
    "        end\n",
    "    end\n",
    "    \n",
    "    return count/#results*100\n",
    "end\n",
    "\n",
    "print(string.format('accuracy: %.2f', compare(results1, testset)))\n",
    "print(string.format('accuracy: %.2f', compare(results2, testset)))\n",
    "print(string.format('accuracy: %.2f', compare(results3, testset)))\n",
    "print(string.format('accuracy: %.2f', compare(results4, testset)))"
   ]
  },
  {
   "cell_type": "code",
   "execution_count": null,
   "metadata": {
    "collapsed": true
   },
   "outputs": [],
   "source": []
  }
 ],
 "metadata": {
  "kernelspec": {
   "display_name": "iTorch",
   "language": "lua",
   "name": "itorch"
  },
  "language_info": {
   "name": "lua",
   "version": "20003"
  }
 },
 "nbformat": 4,
 "nbformat_minor": 0
}
